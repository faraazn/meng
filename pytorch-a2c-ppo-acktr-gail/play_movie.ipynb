{
 "cells": [
  {
   "cell_type": "code",
   "execution_count": 3,
   "metadata": {},
   "outputs": [],
   "source": [
    "import torch\n",
    "import os\n",
    "from evaluation import evaluate\n",
    "from IPython.display import Video\n",
    "from IPython.display import Audio\n",
    "from main import ALL_STATES, TRAIN_STATES"
   ]
  },
  {
   "cell_type": "code",
   "execution_count": 4,
   "metadata": {},
   "outputs": [],
   "source": [
    "# clip_path = 'runs/05-24_19-47-42/ppo/GreenHillZone.Act1/videos/GreenHillZone.Act1-100608.webm'\n",
    "# print(os.path.exists(clip_path))\n",
    "# vid = Video(clip_path)\n",
    "# display(vid)\n",
    "\n",
    "# # aud = Audio(\"/tmp/temp.wav\")\n",
    "# # display(aud)"
   ]
  },
  {
   "cell_type": "code",
   "execution_count": 5,
   "metadata": {},
   "outputs": [
    {
     "data": {
      "text/html": [
       "<video src=\"saved-runs/05-25_00-33-44/ppo/GreenHillZone.Act1/videos/GreenHillZone.Act1-1000704.webm\" controls  >\n",
       "      Your browser does not support the <code>video</code> element.\n",
       "    </video>"
      ],
      "text/plain": [
       "<IPython.core.display.Video object>"
      ]
     },
     "execution_count": 5,
     "metadata": {},
     "output_type": "execute_result"
    }
   ],
   "source": [
    "clip_path = \"saved-runs/05-25_00-33-44/ppo/GreenHillZone.Act1/videos/GreenHillZone.Act1-1000704.webm\"\n",
    "Video(clip_path)"
   ]
  },
  {
   "cell_type": "code",
   "execution_count": null,
   "metadata": {},
   "outputs": [],
   "source": [
    "clip_path = \"saved-runs/05-13_04-14-36/ppo/GreenHillZone.Act1/videos/GreenHillZone.Act1-1001472.mp4\"\n",
    "Video(clip_path)"
   ]
  },
  {
   "cell_type": "code",
   "execution_count": null,
   "metadata": {},
   "outputs": [],
   "source": [
    "clip_path = \"saved-runs/05-13_04-14-36/ppo-joint/videos/LabyrinthZone.Act3-30001152.mp4\"\n",
    "Video(clip_path)"
   ]
  },
  {
   "cell_type": "code",
   "execution_count": null,
   "metadata": {},
   "outputs": [],
   "source": [
    "clip_path = \"saved-runs/05-13_04-14-36/ppo/LabyrinthZone.Act1/videos/LabyrinthZone.Act1-1001472.mp4\"\n",
    "Video(clip_path)"
   ]
  },
  {
   "cell_type": "code",
   "execution_count": null,
   "metadata": {},
   "outputs": [],
   "source": [
    "# def get_newest_ckpt(load_dir):\n",
    "#     try:\n",
    "#         _, _, ckpt_names = next(os.walk(load_dir))\n",
    "#     except StopIteration:\n",
    "#         return None\n",
    "\n",
    "#     newest_ckpt = None\n",
    "#     for ckpt_name in ckpt_names:\n",
    "#         ckpt = torch.load(os.path.join(load_dir, ckpt_name))\n",
    "#         if newest_ckpt is None or ckpt[1] > newest_ckpt[1]:  # index 1 is ckpt env_step\n",
    "#             newest_ckpt = ckpt\n",
    "#     return newest_ckpt"
   ]
  },
  {
   "cell_type": "code",
   "execution_count": null,
   "metadata": {},
   "outputs": [],
   "source": [
    "# run_dir = \"saved-runs/05-13_04-14-36\"\n",
    "# model_type = \"ppo\"\n",
    "\n",
    "# for env_state in ALL_STATES:\n",
    "#     ckpt_dir = os.path.join(run_dir, model_type, env_state, \"ckpts/\")\n",
    "#     model = get_newest_ckpt(ckpt_dir)\n",
    "#     print(f\"loaded {model[3]} at env_step {model[1]}\")\n",
    "    \n",
    "#     env_states = [env_state]\n",
    "#     seed = 9\n",
    "#     device = \"cuda:0\"\n",
    "#     actor_critic = model[0]\n",
    "#     eval_t = 1800\n",
    "#     step = model[1]\n",
    "#     vid_save_dir = os.path.join(run_dir, model_type, env_state, \"videos/\")\n",
    "#     print(evaluate(env_states, seed, device, actor_critic, eval_t, step, writer=None, vid_save_dir=vid_save_dir)[0])"
   ]
  },
  {
   "cell_type": "code",
   "execution_count": null,
   "metadata": {},
   "outputs": [],
   "source": [
    "# run_dir = \"saved-runs/05-13_04-14-36\"\n",
    "# model_type = \"ppo-joint\"\n",
    "\n",
    "# ckpt_dir = os.path.join(run_dir, model_type, \"ckpts/\")\n",
    "# model = get_newest_ckpt(ckpt_dir)\n",
    "# print(f\"loaded {model[3]} at env_step {model[1]}\")\n",
    "\n",
    "# env_states = TRAIN_STATES\n",
    "# seed = 9\n",
    "# device = \"cuda:0\"\n",
    "# actor_critic = model[0]\n",
    "# eval_t = 5e3\n",
    "# step = model[1]\n",
    "# vid_save_dir = os.path.join(run_dir, model_type, \"videos/\")\n",
    "# print(evaluate(env_states, seed, device, actor_critic, eval_t, step, writer=None, vid_save_dir=vid_save_dir)[0])"
   ]
  },
  {
   "cell_type": "code",
   "execution_count": null,
   "metadata": {},
   "outputs": [],
   "source": []
  }
 ],
 "metadata": {
  "kernelspec": {
   "display_name": "Python [conda env:meng] *",
   "language": "python",
   "name": "conda-env-meng-py"
  },
  "language_info": {
   "codemirror_mode": {
    "name": "ipython",
    "version": 3
   },
   "file_extension": ".py",
   "mimetype": "text/x-python",
   "name": "python",
   "nbconvert_exporter": "python",
   "pygments_lexer": "ipython3",
   "version": "3.6.10"
  }
 },
 "nbformat": 4,
 "nbformat_minor": 4
}
