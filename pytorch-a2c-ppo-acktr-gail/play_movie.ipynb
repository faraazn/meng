{
 "cells": [
  {
   "cell_type": "code",
   "execution_count": 1,
   "metadata": {},
   "outputs": [
    {
     "name": "stderr",
     "output_type": "stream",
     "text": [
      "/home/faraaz/anaconda3/envs/meng/lib/python3.6/site-packages/tensorflow/python/framework/dtypes.py:516: FutureWarning: Passing (type, 1) or '1type' as a synonym of type is deprecated; in a future version of numpy, it will be understood as (type, (1,)) / '(1,)type'.\n",
      "  _np_qint8 = np.dtype([(\"qint8\", np.int8, 1)])\n",
      "/home/faraaz/anaconda3/envs/meng/lib/python3.6/site-packages/tensorflow/python/framework/dtypes.py:517: FutureWarning: Passing (type, 1) or '1type' as a synonym of type is deprecated; in a future version of numpy, it will be understood as (type, (1,)) / '(1,)type'.\n",
      "  _np_quint8 = np.dtype([(\"quint8\", np.uint8, 1)])\n",
      "/home/faraaz/anaconda3/envs/meng/lib/python3.6/site-packages/tensorflow/python/framework/dtypes.py:518: FutureWarning: Passing (type, 1) or '1type' as a synonym of type is deprecated; in a future version of numpy, it will be understood as (type, (1,)) / '(1,)type'.\n",
      "  _np_qint16 = np.dtype([(\"qint16\", np.int16, 1)])\n",
      "/home/faraaz/anaconda3/envs/meng/lib/python3.6/site-packages/tensorflow/python/framework/dtypes.py:519: FutureWarning: Passing (type, 1) or '1type' as a synonym of type is deprecated; in a future version of numpy, it will be understood as (type, (1,)) / '(1,)type'.\n",
      "  _np_quint16 = np.dtype([(\"quint16\", np.uint16, 1)])\n",
      "/home/faraaz/anaconda3/envs/meng/lib/python3.6/site-packages/tensorflow/python/framework/dtypes.py:520: FutureWarning: Passing (type, 1) or '1type' as a synonym of type is deprecated; in a future version of numpy, it will be understood as (type, (1,)) / '(1,)type'.\n",
      "  _np_qint32 = np.dtype([(\"qint32\", np.int32, 1)])\n",
      "/home/faraaz/anaconda3/envs/meng/lib/python3.6/site-packages/tensorflow/python/framework/dtypes.py:525: FutureWarning: Passing (type, 1) or '1type' as a synonym of type is deprecated; in a future version of numpy, it will be understood as (type, (1,)) / '(1,)type'.\n",
      "  np_resource = np.dtype([(\"resource\", np.ubyte, 1)])\n",
      "/home/faraaz/anaconda3/envs/meng/lib/python3.6/site-packages/tensorboard/compat/tensorflow_stub/dtypes.py:541: FutureWarning: Passing (type, 1) or '1type' as a synonym of type is deprecated; in a future version of numpy, it will be understood as (type, (1,)) / '(1,)type'.\n",
      "  _np_qint8 = np.dtype([(\"qint8\", np.int8, 1)])\n",
      "/home/faraaz/anaconda3/envs/meng/lib/python3.6/site-packages/tensorboard/compat/tensorflow_stub/dtypes.py:542: FutureWarning: Passing (type, 1) or '1type' as a synonym of type is deprecated; in a future version of numpy, it will be understood as (type, (1,)) / '(1,)type'.\n",
      "  _np_quint8 = np.dtype([(\"quint8\", np.uint8, 1)])\n",
      "/home/faraaz/anaconda3/envs/meng/lib/python3.6/site-packages/tensorboard/compat/tensorflow_stub/dtypes.py:543: FutureWarning: Passing (type, 1) or '1type' as a synonym of type is deprecated; in a future version of numpy, it will be understood as (type, (1,)) / '(1,)type'.\n",
      "  _np_qint16 = np.dtype([(\"qint16\", np.int16, 1)])\n",
      "/home/faraaz/anaconda3/envs/meng/lib/python3.6/site-packages/tensorboard/compat/tensorflow_stub/dtypes.py:544: FutureWarning: Passing (type, 1) or '1type' as a synonym of type is deprecated; in a future version of numpy, it will be understood as (type, (1,)) / '(1,)type'.\n",
      "  _np_quint16 = np.dtype([(\"quint16\", np.uint16, 1)])\n",
      "/home/faraaz/anaconda3/envs/meng/lib/python3.6/site-packages/tensorboard/compat/tensorflow_stub/dtypes.py:545: FutureWarning: Passing (type, 1) or '1type' as a synonym of type is deprecated; in a future version of numpy, it will be understood as (type, (1,)) / '(1,)type'.\n",
      "  _np_qint32 = np.dtype([(\"qint32\", np.int32, 1)])\n",
      "/home/faraaz/anaconda3/envs/meng/lib/python3.6/site-packages/tensorboard/compat/tensorflow_stub/dtypes.py:550: FutureWarning: Passing (type, 1) or '1type' as a synonym of type is deprecated; in a future version of numpy, it will be understood as (type, (1,)) / '(1,)type'.\n",
      "  np_resource = np.dtype([(\"resource\", np.ubyte, 1)])\n"
     ]
    }
   ],
   "source": [
    "import torch\n",
    "import os\n",
    "from evaluation import evaluate\n",
    "from IPython.display import Video\n",
    "from main import ALL_STATES, TRAIN_STATES"
   ]
  },
  {
   "cell_type": "code",
   "execution_count": 2,
   "metadata": {},
   "outputs": [],
   "source": [
    "def get_newest_ckpt(load_dir):\n",
    "    try:\n",
    "        _, _, ckpt_names = next(os.walk(load_dir))\n",
    "    except StopIteration:\n",
    "        return None\n",
    "\n",
    "    newest_ckpt = None\n",
    "    for ckpt_name in ckpt_names:\n",
    "        ckpt = torch.load(os.path.join(load_dir, ckpt_name))\n",
    "        if newest_ckpt is None or ckpt[1] > newest_ckpt[1]:  # index 1 is ckpt env_step\n",
    "            newest_ckpt = ckpt\n",
    "    return newest_ckpt"
   ]
  },
  {
   "cell_type": "code",
   "execution_count": 3,
   "metadata": {},
   "outputs": [],
   "source": [
    "run_dir = \"saved-runs/05-13_04-14-36\""
   ]
  },
  {
   "cell_type": "code",
   "execution_count": null,
   "metadata": {},
   "outputs": [
    {
     "name": "stdout",
     "output_type": "stream",
     "text": [
      "loaded runs_05-13_04-14-36_ppo_GreenHillZone.Act1 at env_step 1001472\n"
     ]
    }
   ],
   "source": [
    "run_dir = \"saved-runs/05-13_04-14-36\"\n",
    "model_type = \"ppo\"\n",
    "\n",
    "for env_state in ALL_STATES:\n",
    "    ckpt_dir = os.path.join(run_dir, model_type, env_state, \"ckpts/\")\n",
    "    model = get_newest_ckpt(ckpt_dir)\n",
    "    print(f\"loaded {model[3]} at env_step {model[1]}\")\n",
    "    \n",
    "    env_states = [env_state]\n",
    "    seed = 9\n",
    "    device = \"cuda:0\"\n",
    "    actor_critic = model[0]\n",
    "    eval_t = 1800\n",
    "    step = model[1]\n",
    "    vid_save_dir = os.path.join(run_dir, model_type, env_state, \"videos/\")\n",
    "    print(evaluate(env_states, seed, device, actor_critic, eval_t, step, writer=None, vid_save_dir=vid_save_dir)[0])"
   ]
  },
  {
   "cell_type": "code",
   "execution_count": null,
   "metadata": {},
   "outputs": [],
   "source": [
    "run_dir = \"saved-runs/05-13_04-14-36\"\n",
    "model_type = \"ppo-joint\"\n",
    "\n",
    "ckpt_dir = os.path.join(run_dir, model_type, \"ckpts/\")\n",
    "model = get_newest_ckpt(ckpt_dir)\n",
    "print(f\"loaded {model[3]} at env_step {model[1]}\")\n",
    "\n",
    "env_states = TRAIN_STATES\n",
    "seed = 9\n",
    "device = \"cuda:0\"\n",
    "actor_critic = model[0]\n",
    "eval_t = 5e3\n",
    "step = model[1]\n",
    "vid_save_dir = os.path.join(run_dir, model_type, \"videos/\")\n",
    "print(evaluate(env_states, seed, device, actor_critic, eval_t, step, writer=None, vid_save_dir=vid_save_dir)[0])"
   ]
  },
  {
   "cell_type": "code",
   "execution_count": null,
   "metadata": {},
   "outputs": [],
   "source": [
    "clip_path = os.path.join(run_dir, \"ppo/GreenHillZone.Act1/videos/GreenHillZone.Act1-1001472.mp4\")\n",
    "Video(clip_path)"
   ]
  },
  {
   "cell_type": "code",
   "execution_count": null,
   "metadata": {},
   "outputs": [],
   "source": [
    "clip_path = os.path.join(run_dir, \"ppo-joint/videos/LabyrinthZone.Act3-30001152.mp4\")\n",
    "Video(clip_path)"
   ]
  },
  {
   "cell_type": "code",
   "execution_count": null,
   "metadata": {},
   "outputs": [],
   "source": [
    "clip_path = os.path.join(run_dir, \"ppo/LabyrinthZone.Act1/videos/LabyrinthZone.Act1-1001472.mp4\")\n",
    "Video(clip_path)"
   ]
  },
  {
   "cell_type": "code",
   "execution_count": null,
   "metadata": {},
   "outputs": [],
   "source": []
  }
 ],
 "metadata": {
  "kernelspec": {
   "display_name": "Python [conda env:meng] *",
   "language": "python",
   "name": "conda-env-meng-py"
  },
  "language_info": {
   "codemirror_mode": {
    "name": "ipython",
    "version": 3
   },
   "file_extension": ".py",
   "mimetype": "text/x-python",
   "name": "python",
   "nbconvert_exporter": "python",
   "pygments_lexer": "ipython3",
   "version": "3.6.10"
  }
 },
 "nbformat": 4,
 "nbformat_minor": 4
}
